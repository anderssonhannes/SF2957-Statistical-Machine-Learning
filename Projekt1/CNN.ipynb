{
 "cells": [
  {
   "cell_type": "code",
   "execution_count": 1,
   "metadata": {},
   "outputs": [
    {
     "name": "stderr",
     "output_type": "stream",
     "text": [
      "2022-12-02 14:29:45.437645: I tensorflow/core/platform/cpu_feature_guard.cc:193] This TensorFlow binary is optimized with oneAPI Deep Neural Network Library (oneDNN) to use the following CPU instructions in performance-critical operations:  AVX2 FMA\n",
      "To enable them in other operations, rebuild TensorFlow with the appropriate compiler flags.\n"
     ]
    }
   ],
   "source": [
    "import numpy as np\n",
    "import matplotlib.pyplot as plt\n",
    "from sklearn import datasets\n",
    "\n",
    "import tensorflow as tf\n",
    "# from tensorflow.keras.datasets import fashion_mnist\n",
    "from tensorflow.keras.layers import Input, Dense, Conv2D, MaxPool2D, Flatten, Dropout\n",
    "from tensorflow.keras.models import Model\n",
    "from tensorflow.keras.optimizers import Adam, SGD\n",
    "\n",
    "\n",
    "\n"
   ]
  },
  {
   "cell_type": "markdown",
   "metadata": {},
   "source": [
    "Import digits data set"
   ]
  },
  {
   "cell_type": "code",
   "execution_count": 374,
   "metadata": {},
   "outputs": [],
   "source": [
    "from sklearn.model_selection import train_test_split\n",
    "import random\n",
    "\n",
    "digits = datasets.load_digits()\n",
    "X = digits.images\n",
    "y = digits.target\n",
    "\n",
    "train_sample_size = 600\n",
    "sample_size = round(train_sample_size/0.8)+100\n",
    "\n",
    "test_s = 100/(sample_size)\n",
    "\n",
    "X = X[0:sample_size]\n",
    "y = y[0:sample_size]\n",
    "\n",
    "# If you want full data set\n",
    "X = digits.images\n",
    "y = digits.target\n",
    "test_s = 100/len(X)\n",
    "\n",
    "# Divide into test and training set\n",
    "X_train, X_test, y_train, y_test = train_test_split(X, y, test_size=test_s, random_state=31) #  shuffle=False random_state=42\n",
    "\n",
    "\n",
    "\n",
    "\n",
    "\n",
    "\n",
    "X_train, X_val, y_train, y_val = train_test_split(X_train, y_train, train_size=0.8, random_state=22) #  shuffle=False random_state=42\n",
    "\n",
    "# Normalizing the data between 0-1 instead of 0-16\n",
    "X_train = X_train[:,:,:,np.newaxis]/16.\n",
    "X_val = X_val[:,:,:,np.newaxis]/16.\n",
    "X_test = X_test[:,:,:,np.newaxis]/16.\n",
    "\n",
    "\n",
    "y_train = y_train[:,np.newaxis]\n",
    "y_val = y_val[:,np.newaxis]\n",
    "y_test = y_test[:,np.newaxis]\n",
    "\n"
   ]
  },
  {
   "cell_type": "markdown",
   "metadata": {},
   "source": [
    "Visualize the images"
   ]
  },
  {
   "cell_type": "code",
   "execution_count": 273,
   "metadata": {},
   "outputs": [
    {
     "data": {
      "image/png": "[encoded data removed]",
      "text/plain": [
       "<Figure size 1080x432 with 12 Axes>"
      ]
     },
     "metadata": {
      "needs_background": "light"
     },
     "output_type": "display_data"
    }
   ],
   "source": [
    "plt.figure(figsize=(15,6))\n",
    "for i in range(12):\n",
    "    plt.subplot(2,6,i+1)\n",
    "    plt.imshow(X_train[i].reshape((8,8)),cmap = \"gray\")\n",
    "    plt.title(y_train[i,0])\n",
    "    plt.axis('off')"
   ]
  },
  {
   "cell_type": "markdown",
   "metadata": {},
   "source": [
    "Setup for one convolution layer "
   ]
  },
  {
   "cell_type": "code",
   "execution_count": 349,
   "metadata": {},
   "outputs": [],
   "source": [
    "inputs = Input(shape = (8,8,1))\n",
    "\n",
    "conv_1 = Conv2D(filters = 8, padding='same',kernel_size = 3, strides = (1,1),activation = 'relu')(inputs)\n",
    "mp_1 = MaxPool2D(pool_size= 2)(conv_1)\n",
    "\n",
    "fl = Flatten()(mp_1)\n",
    "outputs = Dense(10, activation = 'softmax')(fl)\n",
    "\n",
    "model = Model(inputs, outputs,name = \"dense_single_layer\")\n",
    "opt = Adam()\n",
    "model.compile(optimizer = opt, loss = 'sparse_categorical_crossentropy', metrics = ['accuracy'])"
   ]
  },
  {
   "cell_type": "markdown",
   "metadata": {},
   "source": [
    "Setup for two convolution layers"
   ]
  },
  {
   "cell_type": "code",
   "execution_count": 401,
   "metadata": {},
   "outputs": [],
   "source": [
    "inputs = Input(shape = (8,8,1))\n",
    "\n",
    "conv_1 = Conv2D(filters = 64, padding='same',kernel_size = 3, strides = (1,1),activation = 'relu')(inputs)\n",
    "# dr_1 = Dropout(0.1)(conv_1)\n",
    "# mp_1 = MaxPool2D(pool_size= 2)(dr_1)\n",
    "mp_1 = MaxPool2D(pool_size= 2)(conv_1)\n",
    "\n",
    "\n",
    "conv_2 = Conv2D(filters = 8, padding='same',kernel_size = 3, strides = (1,1),activation = 'relu')(mp_1)\n",
    "# dr_2 = Dropout(0.1)(conv_2)\n",
    "# mp_2 = MaxPool2D(pool_size= 2)(dr_2)\n",
    "mp_2 = MaxPool2D(pool_size= 2)(conv_2)\n",
    "\n",
    "\n",
    "fl = Flatten()(mp_2)\n",
    "outputs = Dense(10, activation = 'softmax')(fl)\n",
    "\n",
    "model = Model(inputs, outputs,name = \"dense_double_layer\")\n",
    "\n",
    "opt = Adam()\n",
    "model.compile(optimizer = opt, loss = 'sparse_categorical_crossentropy', metrics = ['accuracy'])"
   ]
  },
  {
   "cell_type": "code",
   "execution_count": 402,
   "metadata": {},
   "outputs": [
    {
     "name": "stdout",
     "output_type": "stream",
     "text": [
      "Model: \"dense_double_layer\"\n",
      "_________________________________________________________________\n",
      " Layer (type)                Output Shape              Param #   \n",
      "=================================================================\n",
      " input_53 (InputLayer)       [(None, 8, 8, 1)]         0         \n",
      "                                                                 \n",
      " conv2d_90 (Conv2D)          (None, 8, 8, 64)          640       \n",
      "                                                                 \n",
      " max_pooling2d_90 (MaxPoolin  (None, 4, 4, 64)         0         \n",
      " g2D)                                                            \n",
      "                                                                 \n",
      " conv2d_91 (Conv2D)          (None, 4, 4, 8)           4616      \n",
      "                                                                 \n",
      " max_pooling2d_91 (MaxPoolin  (None, 2, 2, 8)          0         \n",
      " g2D)                                                            \n",
      "                                                                 \n",
      " flatten_52 (Flatten)        (None, 32)                0         \n",
      "                                                                 \n",
      " dense_52 (Dense)            (None, 10)                330       \n",
      "                                                                 \n",
      "=================================================================\n",
      "Total params: 5,586\n",
      "Trainable params: 5,586\n",
      "Non-trainable params: 0\n",
      "_________________________________________________________________\n"
     ]
    }
   ],
   "source": [
    "model.summary()"
   ]
  },
  {
   "cell_type": "code",
   "execution_count": 403,
   "metadata": {},
   "outputs": [
    {
     "name": "stdout",
     "output_type": "stream",
     "text": [
      "Epoch 1/30\n",
      "57/57 [==============================] - 3s 13ms/step - loss: 2.2022 - accuracy: 0.3080 - val_loss: 2.0663 - val_accuracy: 0.5324\n",
      "Epoch 2/30\n",
      "57/57 [==============================] - 0s 7ms/step - loss: 1.7588 - accuracy: 0.7281 - val_loss: 1.4094 - val_accuracy: 0.7412\n",
      "Epoch 3/30\n",
      "57/57 [==============================] - 0s 6ms/step - loss: 1.0303 - accuracy: 0.8128 - val_loss: 0.7787 - val_accuracy: 0.8206\n",
      "Epoch 4/30\n",
      "57/57 [==============================] - 0s 6ms/step - loss: 0.5677 - accuracy: 0.8946 - val_loss: 0.4764 - val_accuracy: 0.8853\n",
      "Epoch 5/30\n",
      "57/57 [==============================] - 0s 6ms/step - loss: 0.3780 - accuracy: 0.9211 - val_loss: 0.3500 - val_accuracy: 0.9294\n",
      "Epoch 6/30\n",
      "57/57 [==============================] - 0s 6ms/step - loss: 0.2775 - accuracy: 0.9396 - val_loss: 0.2903 - val_accuracy: 0.9176\n",
      "Epoch 7/30\n",
      "57/57 [==============================] - 0s 6ms/step - loss: 0.2247 - accuracy: 0.9477 - val_loss: 0.2407 - val_accuracy: 0.9294\n",
      "Epoch 8/30\n",
      "57/57 [==============================] - 0s 6ms/step - loss: 0.1790 - accuracy: 0.9624 - val_loss: 0.2089 - val_accuracy: 0.9500\n",
      "Epoch 9/30\n",
      "57/57 [==============================] - 0s 8ms/step - loss: 0.1547 - accuracy: 0.9676 - val_loss: 0.1921 - val_accuracy: 0.9529\n",
      "Epoch 10/30\n",
      "57/57 [==============================] - 0s 7ms/step - loss: 0.1358 - accuracy: 0.9654 - val_loss: 0.1708 - val_accuracy: 0.9529\n",
      "Epoch 11/30\n",
      "57/57 [==============================] - 0s 7ms/step - loss: 0.1170 - accuracy: 0.9742 - val_loss: 0.1510 - val_accuracy: 0.9676\n",
      "Epoch 12/30\n",
      "57/57 [==============================] - 0s 6ms/step - loss: 0.1043 - accuracy: 0.9808 - val_loss: 0.1465 - val_accuracy: 0.9647\n",
      "Epoch 13/30\n",
      "57/57 [==============================] - 0s 6ms/step - loss: 0.0921 - accuracy: 0.9831 - val_loss: 0.1363 - val_accuracy: 0.9706\n",
      "Epoch 14/30\n",
      "57/57 [==============================] - 0s 6ms/step - loss: 0.0813 - accuracy: 0.9831 - val_loss: 0.1229 - val_accuracy: 0.9735\n",
      "Epoch 15/30\n",
      "57/57 [==============================] - 0s 6ms/step - loss: 0.0722 - accuracy: 0.9860 - val_loss: 0.1378 - val_accuracy: 0.9676\n",
      "Epoch 16/30\n",
      "57/57 [==============================] - 0s 7ms/step - loss: 0.0686 - accuracy: 0.9867 - val_loss: 0.1119 - val_accuracy: 0.9735\n",
      "Epoch 17/30\n",
      "57/57 [==============================] - 0s 6ms/step - loss: 0.0626 - accuracy: 0.9867 - val_loss: 0.1116 - val_accuracy: 0.9706\n",
      "Epoch 18/30\n",
      "57/57 [==============================] - 0s 6ms/step - loss: 0.0561 - accuracy: 0.9904 - val_loss: 0.1025 - val_accuracy: 0.9765\n",
      "Epoch 19/30\n",
      "57/57 [==============================] - 0s 8ms/step - loss: 0.0521 - accuracy: 0.9941 - val_loss: 0.1039 - val_accuracy: 0.9735\n",
      "Epoch 20/30\n",
      "57/57 [==============================] - 0s 7ms/step - loss: 0.0470 - accuracy: 0.9919 - val_loss: 0.1050 - val_accuracy: 0.9765\n",
      "Epoch 21/30\n",
      "57/57 [==============================] - 0s 8ms/step - loss: 0.0445 - accuracy: 0.9948 - val_loss: 0.0988 - val_accuracy: 0.9706\n",
      "Epoch 22/30\n",
      "57/57 [==============================] - 0s 6ms/step - loss: 0.0400 - accuracy: 0.9948 - val_loss: 0.0875 - val_accuracy: 0.9794\n",
      "Epoch 23/30\n",
      "57/57 [==============================] - 0s 6ms/step - loss: 0.0382 - accuracy: 0.9934 - val_loss: 0.1040 - val_accuracy: 0.9706\n",
      "Epoch 24/30\n",
      "57/57 [==============================] - 0s 7ms/step - loss: 0.0351 - accuracy: 0.9941 - val_loss: 0.0851 - val_accuracy: 0.9765\n",
      "Epoch 25/30\n",
      "57/57 [==============================] - 0s 8ms/step - loss: 0.0306 - accuracy: 0.9963 - val_loss: 0.0856 - val_accuracy: 0.9706\n",
      "Epoch 26/30\n",
      "57/57 [==============================] - 0s 6ms/step - loss: 0.0275 - accuracy: 0.9971 - val_loss: 0.0856 - val_accuracy: 0.9765\n",
      "Epoch 27/30\n",
      "57/57 [==============================] - 0s 6ms/step - loss: 0.0273 - accuracy: 0.9956 - val_loss: 0.0772 - val_accuracy: 0.9794\n",
      "Epoch 28/30\n",
      "57/57 [==============================] - 0s 6ms/step - loss: 0.0252 - accuracy: 0.9971 - val_loss: 0.0821 - val_accuracy: 0.9706\n",
      "Epoch 29/30\n",
      "57/57 [==============================] - 0s 6ms/step - loss: 0.0250 - accuracy: 0.9971 - val_loss: 0.0755 - val_accuracy: 0.9794\n",
      "Epoch 30/30\n",
      "57/57 [==============================] - 0s 6ms/step - loss: 0.0234 - accuracy: 0.9956 - val_loss: 0.0996 - val_accuracy: 0.9765\n"
     ]
    }
   ],
   "source": [
    "training_hist = model.fit(X_train, y_train, batch_size = 24, epochs = 30, validation_data=(X_val,y_val))"
   ]
  },
  {
   "cell_type": "markdown",
   "metadata": {},
   "source": [
    "Save the model chosen above"
   ]
  },
  {
   "cell_type": "code",
   "execution_count": 404,
   "metadata": {},
   "outputs": [
    {
     "name": "stdout",
     "output_type": "stream",
     "text": [
      "4/4 - 0s - loss: 0.0409 - accuracy: 0.9900 - 86ms/epoch - 21ms/step\n",
      "0.996\n",
      "0.976\n"
     ]
    }
   ],
   "source": [
    "y_pred = model.evaluate(X_test,y_test,verbose=2)\n",
    "print(round(training_hist.history['accuracy'][-1],3))\n",
    "print(round(training_hist.history['val_accuracy'][-1],3))"
   ]
  },
  {
   "cell_type": "code",
   "execution_count": 127,
   "metadata": {},
   "outputs": [],
   "source": [
    "\n",
    "tf.keras.models.save_model(model,'models/cnn_one_layer.h5')"
   ]
  },
  {
   "cell_type": "code",
   "execution_count": 384,
   "metadata": {},
   "outputs": [
    {
     "data": {
      "text/plain": [
       "<matplotlib.legend.Legend at 0x7f8a2758c5b0>"
      ]
     },
     "execution_count": 384,
     "metadata": {},
     "output_type": "execute_result"
    },
    {
     "data": {
      "image/png": "[encoded data removed]",
      "text/plain": [
       "<Figure size 720x720 with 2 Axes>"
      ]
     },
     "metadata": {
      "needs_background": "light"
     },
     "output_type": "display_data"
    }
   ],
   "source": [
    "plt.figure(figsize=(10,10))\n",
    "plt.subplot(2,1,1)\n",
    "plt.plot(training_hist.history['loss'])\n",
    "plt.plot(training_hist.history['val_loss'])\n",
    "plt.title('Loss')\n",
    "plt.legend(['training','test'])\n",
    "plt.subplot(2,1,2)\n",
    "plt.plot(training_hist.history['accuracy'])\n",
    "plt.plot(training_hist.history['val_accuracy'])\n",
    "plt.title('accuracy')\n",
    "plt.legend(['training','test'])"
   ]
  },
  {
   "cell_type": "code",
   "execution_count": null,
   "metadata": {},
   "outputs": [],
   "source": [
    "model_loaded = tf.keras.models.load_model('models/cnn_two_layer.h5')"
   ]
  },
  {
   "cell_type": "markdown",
   "metadata": {},
   "source": [
    "Plot some examples with their prediction"
   ]
  },
  {
   "cell_type": "code",
   "execution_count": 116,
   "metadata": {},
   "outputs": [
    {
     "name": "stdout",
     "output_type": "stream",
     "text": [
      "1/1 [==============================] - 0s 51ms/step\n"
     ]
    },
    {
     "data": {
      "image/png": "[encoded data removed]",
      "text/plain": [
       "<Figure size 1800x720 with 28 Axes>"
      ]
     },
     "metadata": {
      "needs_background": "light"
     },
     "output_type": "display_data"
    }
   ],
   "source": [
    "n_examples = 14\n",
    "y_pred = model_loaded.predict(X_val[0:n_examples])\n",
    "plt.figure(figsize= (25,10))\n",
    "for i in range(n_examples):\n",
    "    plt.subplot(2,n_examples,i+1)\n",
    "    plt.imshow(X_val[i].reshape((8,8)),cmap='gray')\n",
    "    plt.title(y_val[i,0])\n",
    "    plt.axis('off')\n",
    "    plt.subplot(2,n_examples,i+n_examples+1)\n",
    "    plt.bar([\"0\",\"1\",\"2\",\"3\",\"4\",\"5\",\"6\",\"7\",\"8\",\"9\"],y_pred[i])"
   ]
  }
 ],
 "metadata": {
  "kernelspec": {
   "display_name": "Python 3.9.12 ('base')",
   "language": "python",
   "name": "python3"
  },
  "language_info": {
   "codemirror_mode": {
    "name": "ipython",
    "version": 3
   },
   "file_extension": ".py",
   "mimetype": "text/x-python",
   "name": "python",
   "nbconvert_exporter": "python",
   "pygments_lexer": "ipython3",
   "version": "3.9.12"
  },
  "orig_nbformat": 4,
  "vscode": {
   "interpreter": {
    "hash": "97f0130966bd3df68d8df0a9f35ea9c90c169760df234b6f71ac354dbab26a96"
   }
  }
 },
 "nbformat": 4,
 "nbformat_minor": 2
}
